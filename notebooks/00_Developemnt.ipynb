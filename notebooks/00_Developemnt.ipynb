{
 "cells": [
  {
   "cell_type": "code",
   "execution_count": 1,
   "metadata": {},
   "outputs": [],
   "source": [
    "import pandas as pd\n",
    "import numpy as np\n",
    "\n",
    "import geopandas as gpd\n",
    "import h3.api.numpy_int as h3\n",
    "\n",
    "import os,sys,glob"
   ]
  },
  {
   "cell_type": "code",
   "execution_count": 2,
   "metadata": {},
   "outputs": [],
   "source": [
    "def h3_idx(row,res):\n",
    "    lat, lon = row['lat'], row['lng']\n",
    "    h3_index = h3.geo_to_h3(lat, lon, resolution=res)  # You can adjust the resolution based on your needs\n",
    "    row[f'h3_index_{res}'] = h3_index\n",
    "    return row"
   ]
  },
  {
   "cell_type": "code",
   "execution_count": 3,
   "metadata": {},
   "outputs": [],
   "source": [
    "def h3_to_lat_lon(h3_index):\n",
    "    lat, lng = h3.h3_to_geo(h3_index)\n",
    "    return pd.Series({'lat': lat, 'lng': lng})"
   ]
  },
  {
   "cell_type": "markdown",
   "metadata": {},
   "source": [
    "# Create H3 Index for Stations"
   ]
  },
  {
   "cell_type": "code",
   "execution_count": 4,
   "metadata": {},
   "outputs": [],
   "source": [
    "data = pd.read_csv(\"../data/Train.csv\", parse_dates=[\"date\"])"
   ]
  },
  {
   "cell_type": "code",
   "execution_count": 5,
   "metadata": {},
   "outputs": [],
   "source": [
    "average_pm25_stations = data.groupby(['lat', 'lng'])['pm25'].mean().reset_index()\n",
    "stations = gpd.GeoDataFrame(average_pm25_stations,geometry=gpd.points_from_xy(average_pm25_stations.lng, average_pm25_stations.lat, crs=4326))"
   ]
  },
  {
   "cell_type": "code",
   "execution_count": 6,
   "metadata": {},
   "outputs": [
    {
     "data": {
      "text/html": [
       "<div>\n",
       "<style scoped>\n",
       "    .dataframe tbody tr th:only-of-type {\n",
       "        vertical-align: middle;\n",
       "    }\n",
       "\n",
       "    .dataframe tbody tr th {\n",
       "        vertical-align: top;\n",
       "    }\n",
       "\n",
       "    .dataframe thead th {\n",
       "        text-align: right;\n",
       "    }\n",
       "</style>\n",
       "<table border=\"1\" class=\"dataframe\">\n",
       "  <thead>\n",
       "    <tr style=\"text-align: right;\">\n",
       "      <th></th>\n",
       "      <th>lat</th>\n",
       "      <th>lng</th>\n",
       "      <th>pm25</th>\n",
       "      <th>geometry</th>\n",
       "    </tr>\n",
       "  </thead>\n",
       "  <tbody>\n",
       "    <tr>\n",
       "      <th>0</th>\n",
       "      <td>45.171919</td>\n",
       "      <td>9.488997</td>\n",
       "      <td>22.470256</td>\n",
       "      <td>POINT (9.48900 45.17192)</td>\n",
       "    </tr>\n",
       "    <tr>\n",
       "      <th>1</th>\n",
       "      <td>45.281956</td>\n",
       "      <td>8.988563</td>\n",
       "      <td>22.468700</td>\n",
       "      <td>POINT (8.98856 45.28196)</td>\n",
       "    </tr>\n",
       "    <tr>\n",
       "      <th>2</th>\n",
       "      <td>45.324517</td>\n",
       "      <td>9.134517</td>\n",
       "      <td>22.591867</td>\n",
       "      <td>POINT (9.13452 45.32452)</td>\n",
       "    </tr>\n",
       "    <tr>\n",
       "      <th>3</th>\n",
       "      <td>45.354286</td>\n",
       "      <td>9.329243</td>\n",
       "      <td>25.406741</td>\n",
       "      <td>POINT (9.32924 45.35429)</td>\n",
       "    </tr>\n",
       "    <tr>\n",
       "      <th>4</th>\n",
       "      <td>45.359261</td>\n",
       "      <td>9.202665</td>\n",
       "      <td>23.111943</td>\n",
       "      <td>POINT (9.20266 45.35926)</td>\n",
       "    </tr>\n",
       "  </tbody>\n",
       "</table>\n",
       "</div>"
      ],
      "text/plain": [
       "         lat       lng       pm25                  geometry\n",
       "0  45.171919  9.488997  22.470256  POINT (9.48900 45.17192)\n",
       "1  45.281956  8.988563  22.468700  POINT (8.98856 45.28196)\n",
       "2  45.324517  9.134517  22.591867  POINT (9.13452 45.32452)\n",
       "3  45.354286  9.329243  25.406741  POINT (9.32924 45.35429)\n",
       "4  45.359261  9.202665  23.111943  POINT (9.20266 45.35926)"
      ]
     },
     "execution_count": 6,
     "metadata": {},
     "output_type": "execute_result"
    }
   ],
   "source": [
    "stations.head()"
   ]
  },
  {
   "cell_type": "code",
   "execution_count": 7,
   "metadata": {},
   "outputs": [],
   "source": [
    "for resolution_value in [4,7,8]: # Adjust the resolution based on your needs\n",
    "    stations = stations.apply(lambda row: h3_idx(row, res=resolution_value), axis=1)"
   ]
  },
  {
   "cell_type": "code",
   "execution_count": 8,
   "metadata": {},
   "outputs": [
    {
     "data": {
      "text/html": [
       "<div>\n",
       "<style scoped>\n",
       "    .dataframe tbody tr th:only-of-type {\n",
       "        vertical-align: middle;\n",
       "    }\n",
       "\n",
       "    .dataframe tbody tr th {\n",
       "        vertical-align: top;\n",
       "    }\n",
       "\n",
       "    .dataframe thead th {\n",
       "        text-align: right;\n",
       "    }\n",
       "</style>\n",
       "<table border=\"1\" class=\"dataframe\">\n",
       "  <thead>\n",
       "    <tr style=\"text-align: right;\">\n",
       "      <th></th>\n",
       "      <th>lat</th>\n",
       "      <th>lng</th>\n",
       "      <th>pm25</th>\n",
       "      <th>geometry</th>\n",
       "      <th>h3_index_4</th>\n",
       "      <th>h3_index_7</th>\n",
       "      <th>h3_index_8</th>\n",
       "    </tr>\n",
       "  </thead>\n",
       "  <tbody>\n",
       "    <tr>\n",
       "      <th>0</th>\n",
       "      <td>45.171919</td>\n",
       "      <td>9.488997</td>\n",
       "      <td>22.470256</td>\n",
       "      <td>POINT (9.48900 45.17192)</td>\n",
       "      <td>595031057019961343</td>\n",
       "      <td>608541854341791743</td>\n",
       "      <td>613045453958676479</td>\n",
       "    </tr>\n",
       "    <tr>\n",
       "      <th>1</th>\n",
       "      <td>45.281956</td>\n",
       "      <td>8.988563</td>\n",
       "      <td>22.468700</td>\n",
       "      <td>POINT (8.98856 45.28196)</td>\n",
       "      <td>595031048430026751</td>\n",
       "      <td>608541845735079935</td>\n",
       "      <td>613045445349867519</td>\n",
       "    </tr>\n",
       "    <tr>\n",
       "      <th>2</th>\n",
       "      <td>45.324517</td>\n",
       "      <td>9.134517</td>\n",
       "      <td>22.591867</td>\n",
       "      <td>POINT (9.13452 45.32452)</td>\n",
       "      <td>595031048430026751</td>\n",
       "      <td>608541843201720319</td>\n",
       "      <td>613045442820702207</td>\n",
       "    </tr>\n",
       "    <tr>\n",
       "      <th>3</th>\n",
       "      <td>45.354286</td>\n",
       "      <td>9.329243</td>\n",
       "      <td>25.406741</td>\n",
       "      <td>POINT (9.32924 45.35429)</td>\n",
       "      <td>595031048430026751</td>\n",
       "      <td>608541844594229247</td>\n",
       "      <td>613045444217405439</td>\n",
       "    </tr>\n",
       "    <tr>\n",
       "      <th>4</th>\n",
       "      <td>45.359261</td>\n",
       "      <td>9.202665</td>\n",
       "      <td>23.111943</td>\n",
       "      <td>POINT (9.20266 45.35926)</td>\n",
       "      <td>595031048430026751</td>\n",
       "      <td>608541844443234303</td>\n",
       "      <td>613045444055924735</td>\n",
       "    </tr>\n",
       "  </tbody>\n",
       "</table>\n",
       "</div>"
      ],
      "text/plain": [
       "         lat       lng       pm25                  geometry   \n",
       "0  45.171919  9.488997  22.470256  POINT (9.48900 45.17192)  \\\n",
       "1  45.281956  8.988563  22.468700  POINT (8.98856 45.28196)   \n",
       "2  45.324517  9.134517  22.591867  POINT (9.13452 45.32452)   \n",
       "3  45.354286  9.329243  25.406741  POINT (9.32924 45.35429)   \n",
       "4  45.359261  9.202665  23.111943  POINT (9.20266 45.35926)   \n",
       "\n",
       "           h3_index_4          h3_index_7          h3_index_8  \n",
       "0  595031057019961343  608541854341791743  613045453958676479  \n",
       "1  595031048430026751  608541845735079935  613045445349867519  \n",
       "2  595031048430026751  608541843201720319  613045442820702207  \n",
       "3  595031048430026751  608541844594229247  613045444217405439  \n",
       "4  595031048430026751  608541844443234303  613045444055924735  "
      ]
     },
     "execution_count": 8,
     "metadata": {},
     "output_type": "execute_result"
    }
   ],
   "source": [
    "stations.head()"
   ]
  },
  {
   "cell_type": "code",
   "execution_count": 10,
   "metadata": {},
   "outputs": [],
   "source": [
    "stations[['h3_index_4', 'h3_index_7','h3_index_8','geometry']].to_file('../data/stations.geojson', driver='GeoJSON')"
   ]
  },
  {
   "cell_type": "markdown",
   "metadata": {},
   "source": [
    "# Merge H3 Index with Train data"
   ]
  },
  {
   "cell_type": "code",
   "execution_count": 11,
   "metadata": {},
   "outputs": [],
   "source": [
    "stations.drop(['pm25','geometry'],axis=1,inplace=True)"
   ]
  },
  {
   "cell_type": "code",
   "execution_count": 12,
   "metadata": {},
   "outputs": [],
   "source": [
    "merged_df = pd.merge(stations,data, on=['lat', 'lng'], how='inner')"
   ]
  },
  {
   "cell_type": "code",
   "execution_count": 13,
   "metadata": {},
   "outputs": [],
   "source": [
    "merged_df.drop(['lat', 'lng'],axis=1,inplace=True)"
   ]
  },
  {
   "cell_type": "code",
   "execution_count": 14,
   "metadata": {},
   "outputs": [],
   "source": [
    "merged_df.to_csv(\"../data/Train_with_idx.csv\",index=False)"
   ]
  },
  {
   "cell_type": "code",
   "execution_count": 15,
   "metadata": {},
   "outputs": [],
   "source": [
    "from dask.distributed import LocalCluster\n",
    "import dask.dataframe as dd\n",
    "import numpy as np\n",
    "import dask_geopandas\n",
    "from shapely.geometry import Polygon"
   ]
  },
  {
   "cell_type": "code",
   "execution_count": 16,
   "metadata": {},
   "outputs": [
    {
     "name": "stderr",
     "output_type": "stream",
     "text": [
      "2024-03-07 17:57:53,858 - tornado.application - ERROR - Uncaught exception GET /status/ws (10.1.0.193)\n",
      "HTTPServerRequest(protocol='http', host='localhost:8787', method='GET', uri='/status/ws', version='HTTP/1.1', remote_ip='10.1.0.193')\n",
      "Traceback (most recent call last):\n",
      "  File \"/scicore/home/roeoesli/valipo0000/training/anaconda3/envs/py39/lib/python3.9/site-packages/tornado/websocket.py\", line 938, in _accept_connection\n",
      "    open_result = handler.open(*handler.open_args, **handler.open_kwargs)\n",
      "  File \"/scicore/home/roeoesli/valipo0000/training/anaconda3/envs/py39/lib/python3.9/site-packages/tornado/web.py\", line 3301, in wrapper\n",
      "    return method(self, *args, **kwargs)\n",
      "  File \"/scicore/home/roeoesli/valipo0000/training/anaconda3/envs/py39/lib/python3.9/site-packages/bokeh/server/views/ws.py\", line 149, in open\n",
      "    raise ProtocolError(\"Token is expired.\")\n",
      "bokeh.protocol.exceptions.ProtocolError: Token is expired.\n"
     ]
    }
   ],
   "source": [
    "cluster = LocalCluster(timeout='60s')"
   ]
  },
  {
   "cell_type": "code",
   "execution_count": 17,
   "metadata": {},
   "outputs": [],
   "source": [
    "client = cluster.get_client()"
   ]
  },
  {
   "cell_type": "code",
   "execution_count": 18,
   "metadata": {},
   "outputs": [],
   "source": [
    "stns = gpd.read_file('../data/stations.geojson')"
   ]
  },
  {
   "cell_type": "code",
   "execution_count": 19,
   "metadata": {},
   "outputs": [],
   "source": [
    "df = dd.read_parquet(\"../independent-variables/pm25_cams_data/pm25_cams_2019-0*.parquet\")"
   ]
  },
  {
   "cell_type": "code",
   "execution_count": 20,
   "metadata": {},
   "outputs": [
    {
     "data": {
      "text/html": [
       "<div>\n",
       "<style scoped>\n",
       "    .dataframe tbody tr th:only-of-type {\n",
       "        vertical-align: middle;\n",
       "    }\n",
       "\n",
       "    .dataframe tbody tr th {\n",
       "        vertical-align: top;\n",
       "    }\n",
       "\n",
       "    .dataframe thead th {\n",
       "        text-align: right;\n",
       "    }\n",
       "</style>\n",
       "<table border=\"1\" class=\"dataframe\">\n",
       "  <thead>\n",
       "    <tr style=\"text-align: right;\">\n",
       "      <th></th>\n",
       "      <th>date</th>\n",
       "      <th>pm2p5</th>\n",
       "      <th>h3_index</th>\n",
       "    </tr>\n",
       "  </thead>\n",
       "  <tbody>\n",
       "    <tr>\n",
       "      <th>104</th>\n",
       "      <td>2019-09-26</td>\n",
       "      <td>28.871744</td>\n",
       "      <td>595031031250157567</td>\n",
       "    </tr>\n",
       "    <tr>\n",
       "      <th>105</th>\n",
       "      <td>2019-09-27</td>\n",
       "      <td>31.613932</td>\n",
       "      <td>595031031250157567</td>\n",
       "    </tr>\n",
       "    <tr>\n",
       "      <th>106</th>\n",
       "      <td>2019-09-28</td>\n",
       "      <td>23.507812</td>\n",
       "      <td>595031031250157567</td>\n",
       "    </tr>\n",
       "    <tr>\n",
       "      <th>107</th>\n",
       "      <td>2019-09-29</td>\n",
       "      <td>20.043295</td>\n",
       "      <td>595031031250157567</td>\n",
       "    </tr>\n",
       "    <tr>\n",
       "      <th>108</th>\n",
       "      <td>2019-09-30</td>\n",
       "      <td>19.431641</td>\n",
       "      <td>595031031250157567</td>\n",
       "    </tr>\n",
       "  </tbody>\n",
       "</table>\n",
       "</div>"
      ],
      "text/plain": [
       "          date      pm2p5            h3_index\n",
       "104 2019-09-26  28.871744  595031031250157567\n",
       "105 2019-09-27  31.613932  595031031250157567\n",
       "106 2019-09-28  23.507812  595031031250157567\n",
       "107 2019-09-29  20.043295  595031031250157567\n",
       "108 2019-09-30  19.431641  595031031250157567"
      ]
     },
     "execution_count": 20,
     "metadata": {},
     "output_type": "execute_result"
    }
   ],
   "source": [
    "df.tail()"
   ]
  },
  {
   "cell_type": "code",
   "execution_count": 22,
   "metadata": {},
   "outputs": [],
   "source": [
    "h3_idxs = stns['h3_index_4'].tolist()"
   ]
  },
  {
   "cell_type": "code",
   "execution_count": 23,
   "metadata": {},
   "outputs": [],
   "source": [
    "dff = df[df['h3_index'].isin(h3_idxs)]"
   ]
  },
  {
   "cell_type": "code",
   "execution_count": 24,
   "metadata": {},
   "outputs": [
    {
     "data": {
      "text/html": [
       "<div>\n",
       "<style scoped>\n",
       "    .dataframe tbody tr th:only-of-type {\n",
       "        vertical-align: middle;\n",
       "    }\n",
       "\n",
       "    .dataframe tbody tr th {\n",
       "        vertical-align: top;\n",
       "    }\n",
       "\n",
       "    .dataframe thead th {\n",
       "        text-align: right;\n",
       "    }\n",
       "</style>\n",
       "<table border=\"1\" class=\"dataframe\">\n",
       "  <thead>\n",
       "    <tr style=\"text-align: right;\">\n",
       "      <th></th>\n",
       "      <th>date</th>\n",
       "      <th>pm2p5</th>\n",
       "      <th>h3_index</th>\n",
       "    </tr>\n",
       "  </thead>\n",
       "  <tbody>\n",
       "    <tr>\n",
       "      <th>104</th>\n",
       "      <td>2019-09-26</td>\n",
       "      <td>28.871744</td>\n",
       "      <td>595031031250157567</td>\n",
       "    </tr>\n",
       "    <tr>\n",
       "      <th>105</th>\n",
       "      <td>2019-09-27</td>\n",
       "      <td>31.613932</td>\n",
       "      <td>595031031250157567</td>\n",
       "    </tr>\n",
       "    <tr>\n",
       "      <th>106</th>\n",
       "      <td>2019-09-28</td>\n",
       "      <td>23.507812</td>\n",
       "      <td>595031031250157567</td>\n",
       "    </tr>\n",
       "    <tr>\n",
       "      <th>107</th>\n",
       "      <td>2019-09-29</td>\n",
       "      <td>20.043295</td>\n",
       "      <td>595031031250157567</td>\n",
       "    </tr>\n",
       "    <tr>\n",
       "      <th>108</th>\n",
       "      <td>2019-09-30</td>\n",
       "      <td>19.431641</td>\n",
       "      <td>595031031250157567</td>\n",
       "    </tr>\n",
       "  </tbody>\n",
       "</table>\n",
       "</div>"
      ],
      "text/plain": [
       "          date      pm2p5            h3_index\n",
       "104 2019-09-26  28.871744  595031031250157567\n",
       "105 2019-09-27  31.613932  595031031250157567\n",
       "106 2019-09-28  23.507812  595031031250157567\n",
       "107 2019-09-29  20.043295  595031031250157567\n",
       "108 2019-09-30  19.431641  595031031250157567"
      ]
     },
     "execution_count": 24,
     "metadata": {},
     "output_type": "execute_result"
    }
   ],
   "source": [
    "dff.tail()"
   ]
  },
  {
   "cell_type": "code",
   "execution_count": 30,
   "metadata": {},
   "outputs": [],
   "source": [
    "b = dff.compute()"
   ]
  },
  {
   "cell_type": "code",
   "execution_count": 31,
   "metadata": {},
   "outputs": [],
   "source": [
    "b[['lat', 'lng']] = b['h3_index'].apply(lambda x: h3_to_lat_lon(x))"
   ]
  },
  {
   "cell_type": "code",
   "execution_count": 33,
   "metadata": {},
   "outputs": [],
   "source": [
    "c = gpd.GeoDataFrame(b,geometry=gpd.points_from_xy(b.lng, b.lat, crs=4326))"
   ]
  },
  {
   "cell_type": "code",
   "execution_count": 34,
   "metadata": {},
   "outputs": [],
   "source": [
    "c.to_file('../data/test55.geojson', driver='GeoJSON')"
   ]
  },
  {
   "cell_type": "code",
   "execution_count": 40,
   "metadata": {},
   "outputs": [
    {
     "data": {
      "text/plain": [
       "590527423032852479"
      ]
     },
     "execution_count": 40,
     "metadata": {},
     "output_type": "execute_result"
    }
   ],
   "source": [
    "h3.h3_to_parent(595030971120615423,res=3)"
   ]
  },
  {
   "cell_type": "code",
   "execution_count": 25,
   "metadata": {},
   "outputs": [],
   "source": [
    "# Create new columns 'latitude' and 'longitude' using apply\n",
    "meta = {'lat': float, 'lng': float}\n",
    "dff[['lat', 'lng']] = dff['h3_index'].apply(lambda x: h3_to_lat_lon(x), meta=meta)"
   ]
  },
  {
   "cell_type": "code",
   "execution_count": 26,
   "metadata": {},
   "outputs": [],
   "source": [
    "gddf = dff.set_geometry(\n",
    "    dask_geopandas.points_from_xy(dff, 'lng', 'lat')\n",
    ").set_crs('epsg:4326').to_crs(3035)"
   ]
  },
  {
   "cell_type": "code",
   "execution_count": 27,
   "metadata": {},
   "outputs": [],
   "source": [
    "a = gpd.sjoin_nearest(stns.to_crs(3035), gddf.compute(), how='inner', distance_col=\"distance\")"
   ]
  },
  {
   "cell_type": "code",
   "execution_count": 28,
   "metadata": {},
   "outputs": [
    {
     "data": {
      "text/plain": [
       "Index(['h3_index_4', 'h3_index_7', 'h3_index_8', 'geometry', 'index_right',\n",
       "       'date', 'pm2p5', 'h3_index', 'lat', 'lng', 'distance'],\n",
       "      dtype='object')"
      ]
     },
     "execution_count": 28,
     "metadata": {},
     "output_type": "execute_result"
    }
   ],
   "source": [
    "a.columns"
   ]
  },
  {
   "cell_type": "code",
   "execution_count": 29,
   "metadata": {},
   "outputs": [
    {
     "data": {
      "text/html": [
       "<div>\n",
       "<style scoped>\n",
       "    .dataframe tbody tr th:only-of-type {\n",
       "        vertical-align: middle;\n",
       "    }\n",
       "\n",
       "    .dataframe tbody tr th {\n",
       "        vertical-align: top;\n",
       "    }\n",
       "\n",
       "    .dataframe thead th {\n",
       "        text-align: right;\n",
       "    }\n",
       "</style>\n",
       "<table border=\"1\" class=\"dataframe\">\n",
       "  <thead>\n",
       "    <tr style=\"text-align: right;\">\n",
       "      <th></th>\n",
       "      <th>h3_index_4</th>\n",
       "      <th>h3_index_7</th>\n",
       "      <th>h3_index_8</th>\n",
       "      <th>geometry</th>\n",
       "      <th>index_right</th>\n",
       "      <th>date</th>\n",
       "      <th>pm2p5</th>\n",
       "      <th>h3_index</th>\n",
       "      <th>lat</th>\n",
       "      <th>lng</th>\n",
       "      <th>distance</th>\n",
       "    </tr>\n",
       "  </thead>\n",
       "  <tbody>\n",
       "    <tr>\n",
       "      <th>0</th>\n",
       "      <td>595031057019961343</td>\n",
       "      <td>608541854341791743</td>\n",
       "      <td>613045453958676479</td>\n",
       "      <td>POINT (4280763.876 2451244.394)</td>\n",
       "      <td>106</td>\n",
       "      <td>2019-06-29</td>\n",
       "      <td>12.291179</td>\n",
       "      <td>595031048430026751</td>\n",
       "      <td>45.245226</td>\n",
       "      <td>9.189416</td>\n",
       "      <td>24940.350070</td>\n",
       "    </tr>\n",
       "    <tr>\n",
       "      <th>1</th>\n",
       "      <td>595031048430026751</td>\n",
       "      <td>608541845735079935</td>\n",
       "      <td>613045445349867519</td>\n",
       "      <td>POINT (4241519.870 2463854.691)</td>\n",
       "      <td>106</td>\n",
       "      <td>2019-06-29</td>\n",
       "      <td>12.291179</td>\n",
       "      <td>595031048430026751</td>\n",
       "      <td>45.245226</td>\n",
       "      <td>9.189416</td>\n",
       "      <td>16308.612274</td>\n",
       "    </tr>\n",
       "    <tr>\n",
       "      <th>2</th>\n",
       "      <td>595031048430026751</td>\n",
       "      <td>608541843201720319</td>\n",
       "      <td>613045442820702207</td>\n",
       "      <td>POINT (4253040.795 2468432.849)</td>\n",
       "      <td>106</td>\n",
       "      <td>2019-06-29</td>\n",
       "      <td>12.291179</td>\n",
       "      <td>595031048430026751</td>\n",
       "      <td>45.245226</td>\n",
       "      <td>9.189416</td>\n",
       "      <td>9800.889219</td>\n",
       "    </tr>\n",
       "    <tr>\n",
       "      <th>3</th>\n",
       "      <td>595031048430026751</td>\n",
       "      <td>608541844594229247</td>\n",
       "      <td>613045444217405439</td>\n",
       "      <td>POINT (4268358.833 2471578.626)</td>\n",
       "      <td>106</td>\n",
       "      <td>2019-06-29</td>\n",
       "      <td>12.291179</td>\n",
       "      <td>595031048430026751</td>\n",
       "      <td>45.245226</td>\n",
       "      <td>9.189416</td>\n",
       "      <td>16339.795863</td>\n",
       "    </tr>\n",
       "    <tr>\n",
       "      <th>4</th>\n",
       "      <td>595031048430026751</td>\n",
       "      <td>608541844443234303</td>\n",
       "      <td>613045444055924735</td>\n",
       "      <td>POINT (4258430.994 2472228.411)</td>\n",
       "      <td>106</td>\n",
       "      <td>2019-06-29</td>\n",
       "      <td>12.291179</td>\n",
       "      <td>595031048430026751</td>\n",
       "      <td>45.245226</td>\n",
       "      <td>9.189416</td>\n",
       "      <td>12695.851303</td>\n",
       "    </tr>\n",
       "  </tbody>\n",
       "</table>\n",
       "</div>"
      ],
      "text/plain": [
       "           h3_index_4          h3_index_7          h3_index_8   \n",
       "0  595031057019961343  608541854341791743  613045453958676479  \\\n",
       "1  595031048430026751  608541845735079935  613045445349867519   \n",
       "2  595031048430026751  608541843201720319  613045442820702207   \n",
       "3  595031048430026751  608541844594229247  613045444217405439   \n",
       "4  595031048430026751  608541844443234303  613045444055924735   \n",
       "\n",
       "                          geometry  index_right       date      pm2p5   \n",
       "0  POINT (4280763.876 2451244.394)          106 2019-06-29  12.291179  \\\n",
       "1  POINT (4241519.870 2463854.691)          106 2019-06-29  12.291179   \n",
       "2  POINT (4253040.795 2468432.849)          106 2019-06-29  12.291179   \n",
       "3  POINT (4268358.833 2471578.626)          106 2019-06-29  12.291179   \n",
       "4  POINT (4258430.994 2472228.411)          106 2019-06-29  12.291179   \n",
       "\n",
       "             h3_index        lat       lng      distance  \n",
       "0  595031048430026751  45.245226  9.189416  24940.350070  \n",
       "1  595031048430026751  45.245226  9.189416  16308.612274  \n",
       "2  595031048430026751  45.245226  9.189416   9800.889219  \n",
       "3  595031048430026751  45.245226  9.189416  16339.795863  \n",
       "4  595031048430026751  45.245226  9.189416  12695.851303  "
      ]
     },
     "execution_count": 29,
     "metadata": {},
     "output_type": "execute_result"
    }
   ],
   "source": [
    "a.head()"
   ]
  },
  {
   "cell_type": "code",
   "execution_count": 49,
   "metadata": {},
   "outputs": [],
   "source": [
    "b = gddf.compute()"
   ]
  },
  {
   "cell_type": "code",
   "execution_count": 50,
   "metadata": {},
   "outputs": [
    {
     "data": {
      "text/html": [
       "<div>\n",
       "<style scoped>\n",
       "    .dataframe tbody tr th:only-of-type {\n",
       "        vertical-align: middle;\n",
       "    }\n",
       "\n",
       "    .dataframe tbody tr th {\n",
       "        vertical-align: top;\n",
       "    }\n",
       "\n",
       "    .dataframe thead th {\n",
       "        text-align: right;\n",
       "    }\n",
       "</style>\n",
       "<table border=\"1\" class=\"dataframe\">\n",
       "  <thead>\n",
       "    <tr style=\"text-align: right;\">\n",
       "      <th></th>\n",
       "      <th>date</th>\n",
       "      <th>pm2p5</th>\n",
       "      <th>h3_index</th>\n",
       "      <th>lat</th>\n",
       "      <th>lng</th>\n",
       "      <th>geometry</th>\n",
       "    </tr>\n",
       "  </thead>\n",
       "  <tbody>\n",
       "  </tbody>\n",
       "</table>\n",
       "</div>"
      ],
      "text/plain": [
       "Empty GeoDataFrame\n",
       "Columns: [date, pm2p5, h3_index, lat, lng, geometry]\n",
       "Index: []"
      ]
     },
     "execution_count": 50,
     "metadata": {},
     "output_type": "execute_result"
    }
   ],
   "source": [
    "b[b.h3_index == 599534641614946303]"
   ]
  },
  {
   "cell_type": "code",
   "execution_count": null,
   "metadata": {},
   "outputs": [],
   "source": []
  }
 ],
 "metadata": {
  "kernelspec": {
   "display_name": "Python 3 (ipykernel)",
   "language": "python",
   "name": "python3"
  },
  "language_info": {
   "codemirror_mode": {
    "name": "ipython",
    "version": 3
   },
   "file_extension": ".py",
   "mimetype": "text/x-python",
   "name": "python",
   "nbconvert_exporter": "python",
   "pygments_lexer": "ipython3",
   "version": "3.9.18"
  }
 },
 "nbformat": 4,
 "nbformat_minor": 4
}
